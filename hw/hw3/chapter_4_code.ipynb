{
 "cells": [
  {
   "cell_type": "code",
   "execution_count": null,
   "metadata": {},
   "outputs": [],
   "source": [
    "%matplotlib widget\n",
    "import matplotlib.pyplot as plt\n",
    "import numpy as np\n",
    "import pymc3\n",
    "import scipy.stats as stats\n",
    "\n",
    "plt.style.use(\"ggplot\")"
   ]
  },
  {
   "cell_type": "code",
   "execution_count": 8,
   "metadata": {},
   "outputs": [
    {
     "name": "stderr",
     "output_type": "stream",
     "text": [
      "logp = -10.252, ||grad|| = 15: 100%|██████████| 7/7 [00:00<00:00, 1840.76it/s]\n",
      "Multiprocess sampling (2 chains in 2 jobs)\n",
      "Metropolis: [theta]\n",
      "Sampling 2 chains, 0 divergences: 100%|██████████| 201000/201000 [00:25<00:00, 7922.61draws/s]\n",
      "The number of effective samples is smaller than 25% for some parameters.\n"
     ]
    },
    {
     "data": {
      "application/vnd.jupyter.widget-view+json": {
       "model_id": "fbcab9f15d85489ba004bb791c59bcfb",
       "version_major": 2,
       "version_minor": 0
      },
      "text/plain": [
       "Canvas(toolbar=Toolbar(toolitems=[('Home', 'Reset original view', 'home', 'home'), ('Back', 'Back to previous …"
      ]
     },
     "metadata": {},
     "output_type": "display_data"
    },
    {
     "name": "stderr",
     "output_type": "stream",
     "text": [
      "/Users/justinjiang/anaconda3/lib/python3.7/site-packages/arviz/plots/backends/matplotlib/distplot.py:38: UserWarning: Argument backend_kwargs has not effect in matplotlib.plot_distSupplied value won't be used\n",
      "  \"Argument backend_kwargs has not effect in matplotlib.plot_dist\"\n",
      "/Users/justinjiang/anaconda3/lib/python3.7/site-packages/arviz/plots/backends/matplotlib/distplot.py:38: UserWarning: Argument backend_kwargs has not effect in matplotlib.plot_distSupplied value won't be used\n",
      "  \"Argument backend_kwargs has not effect in matplotlib.plot_dist\"\n"
     ]
    }
   ],
   "source": [
    "n = 50 \n",
    "z = 10 \n",
    "alpha = 12 \n",
    "beta = 12 \n",
    "alpha_post = 22 \n",
    "beta_post = 52\n",
    "\n",
    "iterations = 100000\n",
    "\n",
    "basic_model = pymc3.Model()\n",
    "\n",
    "with basic_model:\n",
    "    theta = pymc3.Beta(\"theta\", alpha=alpha, beta=beta)\n",
    "    \n",
    "    y = pymc3.Binomial(\"y\", n=n, p=theta, observed=z)\n",
    "    \n",
    "    start = pymc3.find_MAP()\n",
    "    \n",
    "    step = pymc3.Metropolis()\n",
    "    \n",
    "    trace = pymc3.sample(iterations, step, start, random_seed = 1, progressbar = True)\n",
    "    \n",
    "\n",
    "bins=50 \n",
    "plt.hist(trace[\"theta\"], bins, histtype=\"step\", density=True, label=\"Posterior (MCMC)\", color=\"red\")\n",
    "\n",
    "\n",
    "x = np.linspace(0,1,100)\n",
    "plt.plot(x, stats.beta.pdf(x, alpha, beta), \"--\", label = \"Prior\", color=\"blue\")\n",
    "\n",
    "plt.plot(x, stats.beta.pdf(x, alpha_post, beta_post), label= 'Posterior (Analytic)', color = \"green\")\n",
    "\n",
    "\n",
    "plt.legend(title=\"Parameters\", loc=\"best\") \n",
    "plt.xlabel(\"$\\\\theta$, Fairness\") \n",
    "plt.ylabel(\"Density\") \n",
    "plt.show()\n",
    "\n",
    "pymc3.traceplot(trace) \n",
    "plt.show()\n",
    "\n"
   ]
  },
  {
   "cell_type": "code",
   "execution_count": null,
   "metadata": {},
   "outputs": [],
   "source": []
  }
 ],
 "metadata": {
  "kernelspec": {
   "display_name": "Python 3",
   "language": "python",
   "name": "python3"
  },
  "language_info": {
   "codemirror_mode": {
    "name": "ipython",
    "version": 3
   },
   "file_extension": ".py",
   "mimetype": "text/x-python",
   "name": "python",
   "nbconvert_exporter": "python",
   "pygments_lexer": "ipython3",
   "version": "3.7.3"
  }
 },
 "nbformat": 4,
 "nbformat_minor": 4
}
