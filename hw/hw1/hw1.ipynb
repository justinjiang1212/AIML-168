{
 "cells": [
  {
   "cell_type": "code",
   "execution_count": 1,
   "metadata": {},
   "outputs": [
    {
     "name": "stderr",
     "output_type": "stream",
     "text": [
      "/Users/justinjiang/anaconda3/lib/python3.7/site-packages/pandas_datareader/compat/__init__.py:7: FutureWarning: pandas.util.testing is deprecated. Use the functions in the public API at pandas.testing instead.\n",
      "  from pandas.util.testing import assert_frame_equal\n"
     ]
    }
   ],
   "source": [
    "import pandas_datareader as pdr\n",
    "import pandas as pd\n",
    "import datetime"
   ]
  },
  {
   "cell_type": "code",
   "execution_count": 2,
   "metadata": {},
   "outputs": [],
   "source": [
    "aapl = pdr.get_data_yahoo('AAPL', \n",
    "                          start=datetime.datetime(2006, 10, 1), \n",
    "                          end=datetime.datetime(2012, 1, 1))"
   ]
  },
  {
   "cell_type": "code",
   "execution_count": 3,
   "metadata": {},
   "outputs": [
    {
     "data": {
      "text/html": [
       "<div>\n",
       "<style scoped>\n",
       "    .dataframe tbody tr th:only-of-type {\n",
       "        vertical-align: middle;\n",
       "    }\n",
       "\n",
       "    .dataframe tbody tr th {\n",
       "        vertical-align: top;\n",
       "    }\n",
       "\n",
       "    .dataframe thead th {\n",
       "        text-align: right;\n",
       "    }\n",
       "</style>\n",
       "<table border=\"1\" class=\"dataframe\">\n",
       "  <thead>\n",
       "    <tr style=\"text-align: right;\">\n",
       "      <th></th>\n",
       "      <th>High</th>\n",
       "      <th>Low</th>\n",
       "      <th>Open</th>\n",
       "      <th>Close</th>\n",
       "      <th>Volume</th>\n",
       "      <th>Adj Close</th>\n",
       "    </tr>\n",
       "    <tr>\n",
       "      <th>Date</th>\n",
       "      <th></th>\n",
       "      <th></th>\n",
       "      <th></th>\n",
       "      <th></th>\n",
       "      <th></th>\n",
       "      <th></th>\n",
       "    </tr>\n",
       "  </thead>\n",
       "  <tbody>\n",
       "    <tr>\n",
       "      <th>2006-10-02</th>\n",
       "      <td>10.838572</td>\n",
       "      <td>10.614285</td>\n",
       "      <td>10.728572</td>\n",
       "      <td>10.694285</td>\n",
       "      <td>178159800</td>\n",
       "      <td>9.258014</td>\n",
       "    </tr>\n",
       "    <tr>\n",
       "      <th>2006-10-03</th>\n",
       "      <td>10.707143</td>\n",
       "      <td>10.455714</td>\n",
       "      <td>10.635715</td>\n",
       "      <td>10.582857</td>\n",
       "      <td>197677200</td>\n",
       "      <td>9.161551</td>\n",
       "    </tr>\n",
       "    <tr>\n",
       "      <th>2006-10-04</th>\n",
       "      <td>10.780000</td>\n",
       "      <td>10.451428</td>\n",
       "      <td>10.585714</td>\n",
       "      <td>10.768572</td>\n",
       "      <td>207270700</td>\n",
       "      <td>9.322326</td>\n",
       "    </tr>\n",
       "    <tr>\n",
       "      <th>2006-10-05</th>\n",
       "      <td>10.880000</td>\n",
       "      <td>10.590000</td>\n",
       "      <td>10.647142</td>\n",
       "      <td>10.690000</td>\n",
       "      <td>170970800</td>\n",
       "      <td>9.254304</td>\n",
       "    </tr>\n",
       "    <tr>\n",
       "      <th>2006-10-06</th>\n",
       "      <td>10.720000</td>\n",
       "      <td>10.544286</td>\n",
       "      <td>10.631429</td>\n",
       "      <td>10.602858</td>\n",
       "      <td>116739700</td>\n",
       "      <td>9.178867</td>\n",
       "    </tr>\n",
       "  </tbody>\n",
       "</table>\n",
       "</div>"
      ],
      "text/plain": [
       "                 High        Low       Open      Close     Volume  Adj Close\n",
       "Date                                                                        \n",
       "2006-10-02  10.838572  10.614285  10.728572  10.694285  178159800   9.258014\n",
       "2006-10-03  10.707143  10.455714  10.635715  10.582857  197677200   9.161551\n",
       "2006-10-04  10.780000  10.451428  10.585714  10.768572  207270700   9.322326\n",
       "2006-10-05  10.880000  10.590000  10.647142  10.690000  170970800   9.254304\n",
       "2006-10-06  10.720000  10.544286  10.631429  10.602858  116739700   9.178867"
      ]
     },
     "execution_count": 3,
     "metadata": {},
     "output_type": "execute_result"
    }
   ],
   "source": [
    "aapl.head()"
   ]
  },
  {
   "cell_type": "code",
   "execution_count": 4,
   "metadata": {},
   "outputs": [
    {
     "data": {
      "text/html": [
       "<div>\n",
       "<style scoped>\n",
       "    .dataframe tbody tr th:only-of-type {\n",
       "        vertical-align: middle;\n",
       "    }\n",
       "\n",
       "    .dataframe tbody tr th {\n",
       "        vertical-align: top;\n",
       "    }\n",
       "\n",
       "    .dataframe thead th {\n",
       "        text-align: right;\n",
       "    }\n",
       "</style>\n",
       "<table border=\"1\" class=\"dataframe\">\n",
       "  <thead>\n",
       "    <tr style=\"text-align: right;\">\n",
       "      <th></th>\n",
       "      <th>High</th>\n",
       "      <th>Low</th>\n",
       "      <th>Open</th>\n",
       "      <th>Close</th>\n",
       "      <th>Volume</th>\n",
       "      <th>Adj Close</th>\n",
       "    </tr>\n",
       "    <tr>\n",
       "      <th>Date</th>\n",
       "      <th></th>\n",
       "      <th></th>\n",
       "      <th></th>\n",
       "      <th></th>\n",
       "      <th></th>\n",
       "      <th></th>\n",
       "    </tr>\n",
       "  </thead>\n",
       "  <tbody>\n",
       "    <tr>\n",
       "      <th>2011-12-23</th>\n",
       "      <td>57.655716</td>\n",
       "      <td>57.070000</td>\n",
       "      <td>57.098572</td>\n",
       "      <td>57.618572</td>\n",
       "      <td>67349800</td>\n",
       "      <td>49.880241</td>\n",
       "    </tr>\n",
       "    <tr>\n",
       "      <th>2011-12-27</th>\n",
       "      <td>58.441429</td>\n",
       "      <td>57.574287</td>\n",
       "      <td>57.585712</td>\n",
       "      <td>58.075714</td>\n",
       "      <td>66269000</td>\n",
       "      <td>50.275993</td>\n",
       "    </tr>\n",
       "    <tr>\n",
       "      <th>2011-12-28</th>\n",
       "      <td>58.321430</td>\n",
       "      <td>57.334286</td>\n",
       "      <td>58.127144</td>\n",
       "      <td>57.520000</td>\n",
       "      <td>57165500</td>\n",
       "      <td>49.794914</td>\n",
       "    </tr>\n",
       "    <tr>\n",
       "      <th>2011-12-29</th>\n",
       "      <td>57.950001</td>\n",
       "      <td>57.215714</td>\n",
       "      <td>57.628571</td>\n",
       "      <td>57.874287</td>\n",
       "      <td>53994500</td>\n",
       "      <td>50.101627</td>\n",
       "    </tr>\n",
       "    <tr>\n",
       "      <th>2011-12-30</th>\n",
       "      <td>58.040001</td>\n",
       "      <td>57.641430</td>\n",
       "      <td>57.644287</td>\n",
       "      <td>57.857143</td>\n",
       "      <td>44915500</td>\n",
       "      <td>50.086784</td>\n",
       "    </tr>\n",
       "  </tbody>\n",
       "</table>\n",
       "</div>"
      ],
      "text/plain": [
       "                 High        Low       Open      Close    Volume  Adj Close\n",
       "Date                                                                       \n",
       "2011-12-23  57.655716  57.070000  57.098572  57.618572  67349800  49.880241\n",
       "2011-12-27  58.441429  57.574287  57.585712  58.075714  66269000  50.275993\n",
       "2011-12-28  58.321430  57.334286  58.127144  57.520000  57165500  49.794914\n",
       "2011-12-29  57.950001  57.215714  57.628571  57.874287  53994500  50.101627\n",
       "2011-12-30  58.040001  57.641430  57.644287  57.857143  44915500  50.086784"
      ]
     },
     "execution_count": 4,
     "metadata": {},
     "output_type": "execute_result"
    }
   ],
   "source": [
    "aapl.tail()"
   ]
  },
  {
   "cell_type": "code",
   "execution_count": 5,
   "metadata": {},
   "outputs": [
    {
     "data": {
      "text/html": [
       "<div>\n",
       "<style scoped>\n",
       "    .dataframe tbody tr th:only-of-type {\n",
       "        vertical-align: middle;\n",
       "    }\n",
       "\n",
       "    .dataframe tbody tr th {\n",
       "        vertical-align: top;\n",
       "    }\n",
       "\n",
       "    .dataframe thead th {\n",
       "        text-align: right;\n",
       "    }\n",
       "</style>\n",
       "<table border=\"1\" class=\"dataframe\">\n",
       "  <thead>\n",
       "    <tr style=\"text-align: right;\">\n",
       "      <th></th>\n",
       "      <th>High</th>\n",
       "      <th>Low</th>\n",
       "      <th>Open</th>\n",
       "      <th>Close</th>\n",
       "      <th>Volume</th>\n",
       "      <th>Adj Close</th>\n",
       "    </tr>\n",
       "  </thead>\n",
       "  <tbody>\n",
       "    <tr>\n",
       "      <th>count</th>\n",
       "      <td>1323.000000</td>\n",
       "      <td>1323.000000</td>\n",
       "      <td>1323.000000</td>\n",
       "      <td>1323.000000</td>\n",
       "      <td>1.323000e+03</td>\n",
       "      <td>1323.000000</td>\n",
       "    </tr>\n",
       "    <tr>\n",
       "      <th>mean</th>\n",
       "      <td>29.237566</td>\n",
       "      <td>28.507684</td>\n",
       "      <td>28.901012</td>\n",
       "      <td>28.889151</td>\n",
       "      <td>1.882896e+08</td>\n",
       "      <td>25.009263</td>\n",
       "    </tr>\n",
       "    <tr>\n",
       "      <th>std</th>\n",
       "      <td>14.199012</td>\n",
       "      <td>14.029758</td>\n",
       "      <td>14.123131</td>\n",
       "      <td>14.119734</td>\n",
       "      <td>1.027007e+08</td>\n",
       "      <td>12.223417</td>\n",
       "    </tr>\n",
       "    <tr>\n",
       "      <th>min</th>\n",
       "      <td>10.568571</td>\n",
       "      <td>10.371428</td>\n",
       "      <td>10.488571</td>\n",
       "      <td>10.461429</td>\n",
       "      <td>3.937360e+07</td>\n",
       "      <td>9.056430</td>\n",
       "    </tr>\n",
       "    <tr>\n",
       "      <th>25%</th>\n",
       "      <td>17.752857</td>\n",
       "      <td>17.182143</td>\n",
       "      <td>17.457857</td>\n",
       "      <td>17.431429</td>\n",
       "      <td>1.122037e+08</td>\n",
       "      <td>15.090342</td>\n",
       "    </tr>\n",
       "    <tr>\n",
       "      <th>50%</th>\n",
       "      <td>25.642857</td>\n",
       "      <td>24.725714</td>\n",
       "      <td>25.260000</td>\n",
       "      <td>25.120001</td>\n",
       "      <td>1.629866e+08</td>\n",
       "      <td>21.746317</td>\n",
       "    </tr>\n",
       "    <tr>\n",
       "      <th>75%</th>\n",
       "      <td>39.132858</td>\n",
       "      <td>38.351429</td>\n",
       "      <td>38.777143</td>\n",
       "      <td>38.699999</td>\n",
       "      <td>2.316230e+08</td>\n",
       "      <td>33.502491</td>\n",
       "    </tr>\n",
       "    <tr>\n",
       "      <th>max</th>\n",
       "      <td>60.957142</td>\n",
       "      <td>59.427143</td>\n",
       "      <td>60.251427</td>\n",
       "      <td>60.320000</td>\n",
       "      <td>8.432424e+08</td>\n",
       "      <td>52.218872</td>\n",
       "    </tr>\n",
       "  </tbody>\n",
       "</table>\n",
       "</div>"
      ],
      "text/plain": [
       "              High          Low         Open        Close        Volume  \\\n",
       "count  1323.000000  1323.000000  1323.000000  1323.000000  1.323000e+03   \n",
       "mean     29.237566    28.507684    28.901012    28.889151  1.882896e+08   \n",
       "std      14.199012    14.029758    14.123131    14.119734  1.027007e+08   \n",
       "min      10.568571    10.371428    10.488571    10.461429  3.937360e+07   \n",
       "25%      17.752857    17.182143    17.457857    17.431429  1.122037e+08   \n",
       "50%      25.642857    24.725714    25.260000    25.120001  1.629866e+08   \n",
       "75%      39.132858    38.351429    38.777143    38.699999  2.316230e+08   \n",
       "max      60.957142    59.427143    60.251427    60.320000  8.432424e+08   \n",
       "\n",
       "         Adj Close  \n",
       "count  1323.000000  \n",
       "mean     25.009263  \n",
       "std      12.223417  \n",
       "min       9.056430  \n",
       "25%      15.090342  \n",
       "50%      21.746317  \n",
       "75%      33.502491  \n",
       "max      52.218872  "
      ]
     },
     "execution_count": 5,
     "metadata": {},
     "output_type": "execute_result"
    }
   ],
   "source": [
    "aapl.describe()"
   ]
  },
  {
   "cell_type": "code",
   "execution_count": 6,
   "metadata": {},
   "outputs": [
    {
     "data": {
      "text/plain": [
       "DatetimeIndex(['2006-10-02', '2006-10-03', '2006-10-04', '2006-10-05',\n",
       "               '2006-10-06', '2006-10-09', '2006-10-10', '2006-10-11',\n",
       "               '2006-10-12', '2006-10-13',\n",
       "               ...\n",
       "               '2011-12-16', '2011-12-19', '2011-12-20', '2011-12-21',\n",
       "               '2011-12-22', '2011-12-23', '2011-12-27', '2011-12-28',\n",
       "               '2011-12-29', '2011-12-30'],\n",
       "              dtype='datetime64[ns]', name='Date', length=1323, freq=None)"
      ]
     },
     "execution_count": 6,
     "metadata": {},
     "output_type": "execute_result"
    }
   ],
   "source": [
    "aapl.index"
   ]
  },
  {
   "cell_type": "code",
   "execution_count": 7,
   "metadata": {},
   "outputs": [
    {
     "data": {
      "text/plain": [
       "Index(['High', 'Low', 'Open', 'Close', 'Volume', 'Adj Close'], dtype='object')"
      ]
     },
     "execution_count": 7,
     "metadata": {},
     "output_type": "execute_result"
    }
   ],
   "source": [
    "aapl.columns"
   ]
  },
  {
   "cell_type": "code",
   "execution_count": 8,
   "metadata": {},
   "outputs": [
    {
     "data": {
      "text/plain": [
       "pandas.core.series.Series"
      ]
     },
     "execution_count": 8,
     "metadata": {},
     "output_type": "execute_result"
    }
   ],
   "source": [
    "ts = aapl['Close'][-10:]\n",
    "type(ts)"
   ]
  },
  {
   "cell_type": "code",
   "execution_count": 9,
   "metadata": {},
   "outputs": [
    {
     "name": "stdout",
     "output_type": "stream",
     "text": [
      "                 High        Low       Open      Close     Volume  Adj Close\n",
      "Date                                                                        \n",
      "2006-11-01  11.625714  11.194285  11.585714  11.308572  152798100   9.789802\n",
      "2006-11-02  11.331429  11.214286  11.274285  11.282857  116370800   9.767539\n",
      "2006-11-03  11.361428  11.112857  11.337143  11.184286  107972200   9.682207\n",
      "2006-11-06  11.437143  11.204286  11.278571  11.387143  108644200   9.857821\n",
      "2006-11-07  11.571428  11.447143  11.492857  11.501429  131483100   9.956757\n",
      "                 High        Low       Open      Close     Volume  Adj Close\n",
      "Date                                                                        \n",
      "2007-01-03  12.368571  11.700000  12.327143  11.971429  309579900  10.363638\n",
      "2007-01-04  12.278571  11.974286  12.007143  12.237143  211815100  10.593664\n",
      "2007-01-05  12.314285  12.057143  12.252857  12.150000  208685400  10.518225\n",
      "2007-01-08  12.361428  12.182858  12.280000  12.210000  199276700  10.570165\n",
      "2007-01-09  13.282857  12.164286  12.350000  13.224286  837324600  11.448232\n",
      "                 High        Low       Open      Close     Volume  Adj Close\n",
      "Date                                                                        \n",
      "2006-11-01  11.625714  11.194285  11.585714  11.308572  152798100   9.789802\n",
      "2006-11-02  11.331429  11.214286  11.274285  11.282857  116370800   9.767539\n",
      "2006-11-03  11.361428  11.112857  11.337143  11.184286  107972200   9.682207\n",
      "2006-11-06  11.437143  11.204286  11.278571  11.387143  108644200   9.857821\n",
      "2006-11-07  11.571428  11.447143  11.492857  11.501429  131483100   9.956757\n",
      "2006-11-08  11.812857  11.412857  11.431429  11.778571  172729200  10.196676\n",
      "2006-11-09  12.098572  11.731428  11.842857  11.905714  230763400  10.306746\n",
      "2006-11-10  11.942857  11.785714  11.935715  11.874286   93466100  10.279537\n",
      "2006-11-13  12.064285  11.805715  11.888572  12.050000  112668500  10.431654\n",
      "2006-11-14  12.142858  11.985714  12.114285  12.142858  147238700  10.512039\n",
      "2006-11-15  12.271428  12.000000  12.150000  12.007143  163830800  10.394552\n",
      "2006-11-16  12.328571  12.088572  12.124286  12.230000  173485200  10.587480\n",
      "2006-11-17  12.277143  12.142858  12.162857  12.264286  116606000  10.617161\n",
      "2006-11-20  12.428572  12.171429  12.200000  12.352858  142698500  10.693839\n",
      "2006-11-21  12.657143  12.444285  12.488571  12.657143  155666700  10.957254\n",
      "2006-11-22  12.964286  12.550000  12.712857  12.901428  167985300  11.168736\n",
      "2006-11-24  13.297143  12.785714  12.790000  13.090000  129669400  11.331979\n",
      "2006-11-27  13.308572  12.785714  13.215714  12.791429  268709000  11.073504\n",
      "2006-11-28  13.138572  12.844286  12.908571  13.115714  259043400  11.354239\n",
      "2006-11-29  13.307143  12.892858  13.285714  13.114285  289270800  11.353003\n",
      "2006-11-30  13.240000  13.008572  13.172857  13.094286  217621600  11.335690\n",
      "                 High      Close\n",
      "Date                            \n",
      "2006-11-01  11.625714  11.308572\n",
      "2006-12-01  13.190000  13.045714\n"
     ]
    }
   ],
   "source": [
    "print(aapl.loc[pd.Timestamp('2006-11-01'):pd.Timestamp('2006-12-31')].head())\n",
    "print(aapl.loc['2007'].head())\n",
    "print(aapl.iloc[22:43])\n",
    "print(aapl.iloc[[22,43], [0, 3]])"
   ]
  },
  {
   "cell_type": "code",
   "execution_count": 10,
   "metadata": {},
   "outputs": [
    {
     "name": "stdout",
     "output_type": "stream",
     "text": [
      "                 High        Low       Open      Close     Volume  Adj Close\n",
      "Date                                                                        \n",
      "2007-12-19  26.377142  25.842857  26.139999  26.160000  206869600  22.646641\n",
      "2006-10-02  10.838572  10.614285  10.728572  10.694285  178159800   9.258014\n",
      "2011-09-12  54.411430  53.128571  53.285713  54.277142  116958100  46.987572\n",
      "2011-12-07  55.848572  55.251427  55.704285  55.584286   76186600  48.119171\n",
      "2008-06-11  26.571428  25.655714  26.334286  25.830000  240387700  22.360960\n",
      "2009-01-05  13.740000  13.244286  13.310000  13.511429  295402100  11.696809\n",
      "2008-11-04  15.970000  15.238571  15.712857  15.855714  349670300  13.726250\n",
      "2009-08-28  24.641428  24.075714  24.610001  24.292856  113425200  21.030260\n",
      "2009-01-20  11.714286  11.171429  11.704286  11.171429  229978700   9.671075\n",
      "2007-09-13  19.857143  19.521429  19.832857  19.600000  164040800  16.967672\n",
      "2010-07-29  37.521427  36.585712  37.244286  36.872856  160951700  31.920740\n",
      "2009-07-30  23.531429  23.071428  23.100000  23.255714  117401200  20.132418\n",
      "2008-02-21  18.067142  17.265715  18.007143  17.362858  234528700  15.030981\n",
      "2007-11-27  25.112858  24.287144  25.031429  24.972857  329257600  21.618935\n",
      "2007-12-05  26.571428  26.058571  26.127142  26.500000  223100500  22.940983\n",
      "2010-08-12  36.157143  35.160000  35.241428  35.970001  133730100  31.139137\n",
      "2010-02-05  28.000000  27.264286  27.518572  27.922857  212576700  24.172745\n",
      "2010-10-26  44.248573  43.664288  43.838570  44.007141   98232400  38.096863\n",
      "2008-11-25  13.530000  12.594286  13.518572  12.971429  308823200  11.229332\n",
      "2011-08-26  54.828571  52.971428  53.024284  54.797142  160369300  47.437740\n",
      "                 High        Low       Open      Close        Volume  \\\n",
      "Date                                                                   \n",
      "2006-10-31  11.123766  10.893117  11.002922  11.017987  1.634995e+08   \n",
      "2006-11-30  12.314626  12.028980  12.161565  12.192109  1.647010e+08   \n",
      "2006-12-31  12.546500  12.205571  12.415857  12.353071  2.111349e+08   \n",
      "2007-01-31  12.880857  12.522572  12.722357  12.697357  3.401223e+08   \n",
      "2007-02-28  12.382932  12.111804  12.252105  12.246842  1.805573e+08   \n",
      "...               ...        ...        ...        ...           ...   \n",
      "2011-08-31  54.550000  53.021304  53.894347  53.823230  1.754630e+08   \n",
      "2011-09-30  56.745918  55.438096  56.054217  56.070476  1.425887e+08   \n",
      "2011-10-31  57.402380  55.932245  56.677687  56.747143  1.564456e+08   \n",
      "2011-11-30  55.554218  54.526599  55.181157  54.973606  1.067107e+08   \n",
      "2011-12-31  56.523537  55.734217  56.110068  56.132925  7.507777e+07   \n",
      "\n",
      "            Adj Close  \n",
      "Date                   \n",
      "2006-10-31   9.538242  \n",
      "2006-11-30  10.554677  \n",
      "2006-12-31  10.694023  \n",
      "2007-01-31  10.992069  \n",
      "2007-02-28  10.602059  \n",
      "...               ...  \n",
      "2011-08-31  46.594630  \n",
      "2011-09-30  48.540065  \n",
      "2011-10-31  49.125855  \n",
      "2011-11-30  47.590506  \n",
      "2011-12-31  48.594130  \n",
      "\n",
      "[63 rows x 6 columns]\n"
     ]
    }
   ],
   "source": [
    "sample = aapl.sample(20)\n",
    "print(sample)\n",
    "monthly_aapl = aapl.resample('M').mean()\n",
    "print(monthly_aapl)"
   ]
  },
  {
   "cell_type": "code",
   "execution_count": 11,
   "metadata": {},
   "outputs": [
    {
     "data": {
      "text/html": [
       "<div>\n",
       "<style scoped>\n",
       "    .dataframe tbody tr th:only-of-type {\n",
       "        vertical-align: middle;\n",
       "    }\n",
       "\n",
       "    .dataframe tbody tr th {\n",
       "        vertical-align: top;\n",
       "    }\n",
       "\n",
       "    .dataframe thead th {\n",
       "        text-align: right;\n",
       "    }\n",
       "</style>\n",
       "<table border=\"1\" class=\"dataframe\">\n",
       "  <thead>\n",
       "    <tr style=\"text-align: right;\">\n",
       "      <th></th>\n",
       "      <th>High</th>\n",
       "      <th>Low</th>\n",
       "      <th>Open</th>\n",
       "      <th>Close</th>\n",
       "      <th>Volume</th>\n",
       "      <th>Adj Close</th>\n",
       "    </tr>\n",
       "    <tr>\n",
       "      <th>Date</th>\n",
       "      <th></th>\n",
       "      <th></th>\n",
       "      <th></th>\n",
       "      <th></th>\n",
       "      <th></th>\n",
       "      <th></th>\n",
       "    </tr>\n",
       "  </thead>\n",
       "  <tbody>\n",
       "    <tr>\n",
       "      <th>2006-10-31</th>\n",
       "      <td>11.668571</td>\n",
       "      <td>11.461429</td>\n",
       "      <td>11.635715</td>\n",
       "      <td>11.582857</td>\n",
       "      <td>125368600</td>\n",
       "      <td>10.027248</td>\n",
       "    </tr>\n",
       "    <tr>\n",
       "      <th>2006-11-30</th>\n",
       "      <td>13.240000</td>\n",
       "      <td>13.008572</td>\n",
       "      <td>13.172857</td>\n",
       "      <td>13.094286</td>\n",
       "      <td>217621600</td>\n",
       "      <td>11.335690</td>\n",
       "    </tr>\n",
       "    <tr>\n",
       "      <th>2006-12-31</th>\n",
       "      <td>12.368571</td>\n",
       "      <td>11.700000</td>\n",
       "      <td>12.327143</td>\n",
       "      <td>11.971429</td>\n",
       "      <td>309579900</td>\n",
       "      <td>10.363638</td>\n",
       "    </tr>\n",
       "    <tr>\n",
       "      <th>2007-01-31</th>\n",
       "      <td>12.285714</td>\n",
       "      <td>12.050000</td>\n",
       "      <td>12.122857</td>\n",
       "      <td>12.247143</td>\n",
       "      <td>214017300</td>\n",
       "      <td>10.602318</td>\n",
       "    </tr>\n",
       "    <tr>\n",
       "      <th>2007-02-28</th>\n",
       "      <td>12.228572</td>\n",
       "      <td>11.857142</td>\n",
       "      <td>11.857142</td>\n",
       "      <td>12.087143</td>\n",
       "      <td>229868800</td>\n",
       "      <td>10.463806</td>\n",
       "    </tr>\n",
       "  </tbody>\n",
       "</table>\n",
       "</div>"
      ],
      "text/plain": [
       "                 High        Low       Open      Close     Volume  Adj Close\n",
       "Date                                                                        \n",
       "2006-10-31  11.668571  11.461429  11.635715  11.582857  125368600  10.027248\n",
       "2006-11-30  13.240000  13.008572  13.172857  13.094286  217621600  11.335690\n",
       "2006-12-31  12.368571  11.700000  12.327143  11.971429  309579900  10.363638\n",
       "2007-01-31  12.285714  12.050000  12.122857  12.247143  214017300  10.602318\n",
       "2007-02-28  12.228572  11.857142  11.857142  12.087143  229868800  10.463806"
      ]
     },
     "execution_count": 11,
     "metadata": {},
     "output_type": "execute_result"
    }
   ],
   "source": [
    "aapl.asfreq(\"M\", method=\"bfill\").head()"
   ]
  },
  {
   "cell_type": "code",
   "execution_count": 12,
   "metadata": {},
   "outputs": [],
   "source": [
    "aapl['diff'] = aapl.Open - aapl.Close"
   ]
  },
  {
   "cell_type": "code",
   "execution_count": 13,
   "metadata": {},
   "outputs": [
    {
     "data": {
      "application/vnd.jupyter.widget-view+json": {
       "model_id": "fc03febc6fe94fa289a1be3cf44f2bfe",
       "version_major": 2,
       "version_minor": 0
      },
      "text/plain": [
       "Canvas(toolbar=Toolbar(toolitems=[('Home', 'Reset original view', 'home', 'home'), ('Back', 'Back to previous …"
      ]
     },
     "metadata": {},
     "output_type": "display_data"
    },
    {
     "data": {
      "text/plain": [
       "<matplotlib.axes._subplots.AxesSubplot at 0x115831710>"
      ]
     },
     "execution_count": 13,
     "metadata": {},
     "output_type": "execute_result"
    }
   ],
   "source": [
    "%matplotlib widget\n",
    "import matplotlib.pyplot as plt\n",
    "\n",
    "aapl['Close'].plot(grid=True,color='red')"
   ]
  },
  {
   "cell_type": "code",
   "execution_count": 14,
   "metadata": {},
   "outputs": [
    {
     "name": "stdout",
     "output_type": "stream",
     "text": [
      "            Adj Close\n",
      "Date                 \n",
      "2006-10-02   0.000000\n",
      "2006-10-03  -0.010419\n",
      "2006-10-04   0.017549\n",
      "2006-10-05  -0.007297\n",
      "2006-10-06  -0.008152\n",
      "...               ...\n",
      "2011-12-23   0.011993\n",
      "2011-12-27   0.007934\n",
      "2011-12-28  -0.009569\n",
      "2011-12-29   0.006160\n",
      "2011-12-30  -0.000296\n",
      "\n",
      "[1323 rows x 1 columns]\n",
      "            Adj Close\n",
      "Date                 \n",
      "2006-10-02        NaN\n",
      "2006-10-03  -0.010474\n",
      "2006-10-04   0.017397\n",
      "2006-10-05  -0.007323\n",
      "2006-10-06  -0.008185\n",
      "...               ...\n",
      "2011-12-23   0.011922\n",
      "2011-12-27   0.007903\n",
      "2011-12-28  -0.009615\n",
      "2011-12-29   0.006141\n",
      "2011-12-30  -0.000296\n",
      "\n",
      "[1323 rows x 1 columns]\n"
     ]
    },
    {
     "data": {
      "application/vnd.jupyter.widget-view+json": {
       "model_id": "d417bb087ad84370930943cfbcdba002",
       "version_major": 2,
       "version_minor": 0
      },
      "text/plain": [
       "Canvas(toolbar=Toolbar(toolitems=[('Home', 'Reset original view', 'home', 'home'), ('Back', 'Back to previous …"
      ]
     },
     "metadata": {},
     "output_type": "display_data"
    },
    {
     "data": {
      "text/plain": [
       "<matplotlib.axes._subplots.AxesSubplot at 0x1158decc0>"
      ]
     },
     "execution_count": 14,
     "metadata": {},
     "output_type": "execute_result"
    }
   ],
   "source": [
    "import numpy as np\n",
    "daily_close = aapl[['Adj Close']]\n",
    "daily_pct_change = daily_close.pct_change()\n",
    "daily_pct_change.fillna(0, inplace=True)\n",
    "print(daily_pct_change)\n",
    "daily_log_returns = np.log(daily_close.pct_change()+1)\n",
    "print(daily_log_returns)\n",
    "daily_log_returns.plot(grid=True)"
   ]
  },
  {
   "cell_type": "code",
   "execution_count": 15,
   "metadata": {},
   "outputs": [
    {
     "name": "stdout",
     "output_type": "stream",
     "text": [
      "                 High        Low       Open      Close        Volume  \\\n",
      "Date                                                                   \n",
      "2006-10-31  11.123766  10.893117  11.002922  11.017987  1.634995e+08   \n",
      "2007-02-28  12.530375  12.216196  12.386839  12.371661  2.239307e+08   \n",
      "2007-06-30  14.978975  14.639042  14.815025  14.817966  2.059500e+08   \n",
      "2007-10-31  21.039668  20.377691  20.755266  20.756943  2.691523e+08   \n",
      "2008-02-29  23.789774  22.777073  23.392561  23.255958  3.155253e+08   \n",
      "2008-06-30  23.687721  22.912075  23.309507  23.341378  2.493401e+08   \n",
      "2008-10-31  21.108637  20.056814  20.646010  20.568358  2.825569e+08   \n",
      "2009-02-28  13.438018  12.850304  13.138321  13.145964  2.368953e+08   \n",
      "2009-06-30  17.528000  17.022824  17.239244  17.307815  1.452323e+08   \n",
      "2009-10-31  24.735399  24.259518  24.501080  24.506146  1.222464e+08   \n",
      "2010-02-28  29.090929  28.453125  28.803768  28.762696  1.431057e+08   \n",
      "2010-06-30  35.587425  34.686146  35.228306  35.194352  1.722535e+08   \n",
      "2010-10-31  38.942168  38.132420  38.553143  38.577395  1.451274e+08   \n",
      "2011-02-28  47.434756  46.735923  47.088554  47.136080  1.116427e+08   \n",
      "2011-06-30  49.041046  48.213505  48.696312  48.607757  1.067913e+08   \n",
      "2011-10-31  55.572773  54.219563  54.890571  54.948723  1.526924e+08   \n",
      "2012-02-29  56.038877  55.130408  55.645612  55.553265  9.089425e+07   \n",
      "\n",
      "            Adj Close      diff  \n",
      "Date                             \n",
      "2006-10-31   9.538242 -0.015065  \n",
      "2007-02-28  10.710115  0.015179  \n",
      "2007-06-30  12.827875 -0.002941  \n",
      "2007-10-31  17.969232 -0.001678  \n",
      "2008-02-29  20.132622  0.136603  \n",
      "2008-06-30  20.206570 -0.031871  \n",
      "2008-10-31  17.805974  0.077652  \n",
      "2009-02-28  11.380427 -0.007643  \n",
      "2009-06-30  14.983330 -0.068572  \n",
      "2009-10-31  21.214907 -0.005067  \n",
      "2010-02-28  24.899791  0.041071  \n",
      "2010-06-30  30.467659  0.033954  \n",
      "2010-10-31  33.396351 -0.024252  \n",
      "2011-02-28  40.805582 -0.047527  \n",
      "2011-06-30  42.079608  0.088555  \n",
      "2011-10-31  47.568967 -0.058152  \n",
      "2012-02-29  48.092318  0.092347  \n"
     ]
    }
   ],
   "source": [
    "monthly = aapl.resample(\"BM\").apply(lambda x: x[-1])\n",
    "\n",
    "monthly.pct_change()\n",
    "\n",
    "quarter = aapl.resample(\"4M\").mean()\n",
    "\n",
    "quarter.pct_change()\n",
    "print(quarter)"
   ]
  },
  {
   "cell_type": "code",
   "execution_count": 16,
   "metadata": {},
   "outputs": [
    {
     "name": "stdout",
     "output_type": "stream",
     "text": [
      "            Adj Close\n",
      "Date                 \n",
      "2006-10-02        NaN\n",
      "2006-10-03  -0.010419\n",
      "2006-10-04   0.017549\n",
      "2006-10-05  -0.007297\n",
      "2006-10-06  -0.008152\n",
      "...               ...\n",
      "2011-12-23   0.011993\n",
      "2011-12-27   0.007934\n",
      "2011-12-28  -0.009569\n",
      "2011-12-29   0.006160\n",
      "2011-12-30  -0.000296\n",
      "\n",
      "[1323 rows x 1 columns]\n"
     ]
    }
   ],
   "source": [
    "daily_pct_change = daily_close / daily_close.shift(1) -1\n",
    "print(daily_pct_change)"
   ]
  },
  {
   "cell_type": "code",
   "execution_count": 17,
   "metadata": {},
   "outputs": [
    {
     "data": {
      "application/vnd.jupyter.widget-view+json": {
       "model_id": "0d5bc73f9f5342dbab40774afa7e992c",
       "version_major": 2,
       "version_minor": 0
      },
      "text/plain": [
       "Canvas(toolbar=Toolbar(toolitems=[('Home', 'Reset original view', 'home', 'home'), ('Back', 'Back to previous …"
      ]
     },
     "metadata": {},
     "output_type": "display_data"
    },
    {
     "name": "stdout",
     "output_type": "stream",
     "text": [
      "         Adj Close\n",
      "count  1322.000000\n",
      "mean      0.001566\n",
      "std       0.023992\n",
      "min      -0.179196\n",
      "25%      -0.010672\n",
      "50%       0.001677\n",
      "75%       0.014306\n",
      "max       0.139049\n"
     ]
    }
   ],
   "source": [
    "daily_log_returns_shift = np.log((daily_close/daily_close.shift(1)))\n",
    "\n",
    "daily_pct_change.hist(bins=50)\n",
    "\n",
    "print(daily_pct_change.describe())"
   ]
  },
  {
   "cell_type": "code",
   "execution_count": 18,
   "metadata": {},
   "outputs": [
    {
     "data": {
      "application/vnd.jupyter.widget-view+json": {
       "model_id": "90ea16e9a9b749ea8d094c8b907b2445",
       "version_major": 2,
       "version_minor": 0
      },
      "text/plain": [
       "Canvas(toolbar=Toolbar(toolitems=[('Home', 'Reset original view', 'home', 'home'), ('Back', 'Back to previous …"
      ]
     },
     "metadata": {},
     "output_type": "display_data"
    },
    {
     "data": {
      "text/plain": [
       "<matplotlib.axes._subplots.AxesSubplot at 0x1158de550>"
      ]
     },
     "execution_count": 18,
     "metadata": {},
     "output_type": "execute_result"
    }
   ],
   "source": [
    "cum_daily_return = (1+daily_pct_change).cumprod()\n",
    "\n",
    "#print(cum_daily_return)\n",
    "\n",
    "cum_daily_return.plot(figsize=(8,8), color = 'green')"
   ]
  },
  {
   "cell_type": "code",
   "execution_count": 19,
   "metadata": {},
   "outputs": [
    {
     "data": {
      "application/vnd.jupyter.widget-view+json": {
       "model_id": "c70f356338fb41069262cb1aca86d74c",
       "version_major": 2,
       "version_minor": 0
      },
      "text/plain": [
       "Canvas(toolbar=Toolbar(toolitems=[('Home', 'Reset original view', 'home', 'home'), ('Back', 'Back to previous …"
      ]
     },
     "metadata": {},
     "output_type": "display_data"
    },
    {
     "data": {
      "text/plain": [
       "<matplotlib.axes._subplots.AxesSubplot at 0x115a80080>"
      ]
     },
     "execution_count": 19,
     "metadata": {},
     "output_type": "execute_result"
    }
   ],
   "source": [
    "cum_monthly_return = cum_daily_return.resample(\"M\").mean()\n",
    "#print(cum_monthly_return)\n",
    "cum_daily_return.plot(figsize=(8,8), color = 'green')\n",
    "#same graph as above!"
   ]
  },
  {
   "cell_type": "code",
   "execution_count": 20,
   "metadata": {},
   "outputs": [],
   "source": [
    "def get(tickers, startdate, enddate):\n",
    "    def data(ticker):\n",
    "        return(pdr.get_data_yahoo(ticker, start = startdate, end = enddate))\n",
    "    datas = map(data, tickers)\n",
    "    return(pd.concat(datas, keys=tickers, names=[\"Ticker\", \"Date\"]))\n",
    "\n",
    "our_tickers = [\"AAPL\", \"MSFT\", \"IBM\", \"GOOG\", \"AMZN\", \"ILMN\"]\n",
    "all_data = get(our_tickers, datetime.datetime(2015, 10, 1), datetime.datetime(2020, 5,26))"
   ]
  },
  {
   "cell_type": "code",
   "execution_count": 21,
   "metadata": {},
   "outputs": [
    {
     "data": {
      "application/vnd.jupyter.widget-view+json": {
       "model_id": "99a5f7d047a94c4ea8ac35f67fc2d3e8",
       "version_major": 2,
       "version_minor": 0
      },
      "text/plain": [
       "Canvas(toolbar=Toolbar(toolitems=[('Home', 'Reset original view', 'home', 'home'), ('Back', 'Back to previous …"
      ]
     },
     "metadata": {},
     "output_type": "display_data"
    },
    {
     "data": {
      "text/plain": [
       "array([[<matplotlib.axes._subplots.AxesSubplot object at 0x115d40550>,\n",
       "        <matplotlib.axes._subplots.AxesSubplot object at 0x1148d3400>],\n",
       "       [<matplotlib.axes._subplots.AxesSubplot object at 0x115d47ac8>,\n",
       "        <matplotlib.axes._subplots.AxesSubplot object at 0x115e75f60>],\n",
       "       [<matplotlib.axes._subplots.AxesSubplot object at 0x1031d4ac8>,\n",
       "        <matplotlib.axes._subplots.AxesSubplot object at 0x1031c8860>]],\n",
       "      dtype=object)"
      ]
     },
     "execution_count": 21,
     "metadata": {},
     "output_type": "execute_result"
    }
   ],
   "source": [
    "daily_close_px = all_data[[\"Adj Close\"]].reset_index().pivot('Date', 'Ticker', 'Adj Close')\n",
    "\n",
    "daily_pct_change = daily_close_px.pct_change()\n",
    "\n",
    "daily_pct_change.hist(bins=50, sharex=True, figsize=(8,8))"
   ]
  },
  {
   "cell_type": "code",
   "execution_count": 22,
   "metadata": {},
   "outputs": [
    {
     "data": {
      "application/vnd.jupyter.widget-view+json": {
       "model_id": "d698e15464944aac857a571f18d71f0b",
       "version_major": 2,
       "version_minor": 0
      },
      "text/plain": [
       "Canvas(toolbar=Toolbar(toolitems=[('Home', 'Reset original view', 'home', 'home'), ('Back', 'Back to previous …"
      ]
     },
     "metadata": {},
     "output_type": "display_data"
    },
    {
     "data": {
      "text/plain": [
       "array([[<matplotlib.axes._subplots.AxesSubplot object at 0x115d40dd8>,\n",
       "        <matplotlib.axes._subplots.AxesSubplot object at 0x115cc06a0>,\n",
       "        <matplotlib.axes._subplots.AxesSubplot object at 0x115cefc18>,\n",
       "        <matplotlib.axes._subplots.AxesSubplot object at 0x115dc8198>,\n",
       "        <matplotlib.axes._subplots.AxesSubplot object at 0x115ef8748>,\n",
       "        <matplotlib.axes._subplots.AxesSubplot object at 0x115f28cf8>],\n",
       "       [<matplotlib.axes._subplots.AxesSubplot object at 0x115f662e8>,\n",
       "        <matplotlib.axes._subplots.AxesSubplot object at 0x115f948d0>,\n",
       "        <matplotlib.axes._subplots.AxesSubplot object at 0x115f94908>,\n",
       "        <matplotlib.axes._subplots.AxesSubplot object at 0x116154438>,\n",
       "        <matplotlib.axes._subplots.AxesSubplot object at 0x1161829e8>,\n",
       "        <matplotlib.axes._subplots.AxesSubplot object at 0x1161b6f98>],\n",
       "       [<matplotlib.axes._subplots.AxesSubplot object at 0x1161ef588>,\n",
       "        <matplotlib.axes._subplots.AxesSubplot object at 0x1162218d0>,\n",
       "        <matplotlib.axes._subplots.AxesSubplot object at 0x116251e80>,\n",
       "        <matplotlib.axes._subplots.AxesSubplot object at 0x11628f470>,\n",
       "        <matplotlib.axes._subplots.AxesSubplot object at 0x1162c2a20>,\n",
       "        <matplotlib.axes._subplots.AxesSubplot object at 0x1162f4fd0>],\n",
       "       [<matplotlib.axes._subplots.AxesSubplot object at 0x11632f5c0>,\n",
       "        <matplotlib.axes._subplots.AxesSubplot object at 0x11635fb70>,\n",
       "        <matplotlib.axes._subplots.AxesSubplot object at 0x11639e160>,\n",
       "        <matplotlib.axes._subplots.AxesSubplot object at 0x1163d0710>,\n",
       "        <matplotlib.axes._subplots.AxesSubplot object at 0x116400cc0>,\n",
       "        <matplotlib.axes._subplots.AxesSubplot object at 0x11643f2b0>],\n",
       "       [<matplotlib.axes._subplots.AxesSubplot object at 0x11646e860>,\n",
       "        <matplotlib.axes._subplots.AxesSubplot object at 0x1164a1e10>,\n",
       "        <matplotlib.axes._subplots.AxesSubplot object at 0x1164db400>,\n",
       "        <matplotlib.axes._subplots.AxesSubplot object at 0x11650c9b0>,\n",
       "        <matplotlib.axes._subplots.AxesSubplot object at 0x11653ff60>,\n",
       "        <matplotlib.axes._subplots.AxesSubplot object at 0x116579550>],\n",
       "       [<matplotlib.axes._subplots.AxesSubplot object at 0x1165acb00>,\n",
       "        <matplotlib.axes._subplots.AxesSubplot object at 0x1165ea0f0>,\n",
       "        <matplotlib.axes._subplots.AxesSubplot object at 0x1166196a0>,\n",
       "        <matplotlib.axes._subplots.AxesSubplot object at 0x11664ac50>,\n",
       "        <matplotlib.axes._subplots.AxesSubplot object at 0x116689240>,\n",
       "        <matplotlib.axes._subplots.AxesSubplot object at 0x1166b97f0>]],\n",
       "      dtype=object)"
      ]
     },
     "execution_count": 22,
     "metadata": {},
     "output_type": "execute_result"
    }
   ],
   "source": [
    "pd.plotting.scatter_matrix(daily_pct_change, diagonal='kde', alpha=0.1,figsize=(12,12))"
   ]
  },
  {
   "cell_type": "code",
   "execution_count": 23,
   "metadata": {},
   "outputs": [
    {
     "name": "stdout",
     "output_type": "stream",
     "text": [
      "Date\n",
      "2011-12-16    48.071899\n",
      "2011-12-19    48.038941\n",
      "2011-12-20    48.008580\n",
      "2011-12-21    48.004499\n",
      "2011-12-22    47.998161\n",
      "2011-12-23    47.993956\n",
      "2011-12-27    47.998840\n",
      "2011-12-28    47.992224\n",
      "2011-12-29    48.018844\n",
      "2011-12-30    48.042311\n",
      "Name: Adj Close, dtype: float64\n"
     ]
    }
   ],
   "source": [
    "adj_close_px = aapl['Adj Close']\n",
    "\n",
    "moving_avg = adj_close_px.rolling(window=40).mean()\n",
    "\n",
    "print(moving_avg[-10:])"
   ]
  },
  {
   "cell_type": "code",
   "execution_count": 24,
   "metadata": {},
   "outputs": [
    {
     "data": {
      "application/vnd.jupyter.widget-view+json": {
       "model_id": "96543d5116d74d2b94dc3b67542f92dd",
       "version_major": 2,
       "version_minor": 0
      },
      "text/plain": [
       "Canvas(toolbar=Toolbar(toolitems=[('Home', 'Reset original view', 'home', 'home'), ('Back', 'Back to previous …"
      ]
     },
     "metadata": {},
     "output_type": "display_data"
    },
    {
     "data": {
      "text/plain": [
       "<matplotlib.axes._subplots.AxesSubplot at 0x1166fa9b0>"
      ]
     },
     "execution_count": 24,
     "metadata": {},
     "output_type": "execute_result"
    }
   ],
   "source": [
    "aapl['42'] = adj_close_px.rolling(window=40).mean()\n",
    "\n",
    "aapl['252'] = adj_close_px.rolling(window=252).mean()\n",
    "\n",
    "aapl[['Adj Close', '42', '252']].plot()"
   ]
  },
  {
   "cell_type": "code",
   "execution_count": 25,
   "metadata": {},
   "outputs": [
    {
     "data": {
      "application/vnd.jupyter.widget-view+json": {
       "model_id": "5cdbb0a44921477bb4c034a9c0a288a4",
       "version_major": 2,
       "version_minor": 0
      },
      "text/plain": [
       "Canvas(toolbar=Toolbar(toolitems=[('Home', 'Reset original view', 'home', 'home'), ('Back', 'Back to previous …"
      ]
     },
     "metadata": {},
     "output_type": "display_data"
    },
    {
     "data": {
      "text/plain": [
       "<matplotlib.axes._subplots.AxesSubplot at 0x1a186669b0>"
      ]
     },
     "execution_count": 25,
     "metadata": {},
     "output_type": "execute_result"
    }
   ],
   "source": [
    "min_periods = 100\n",
    "\n",
    "vol = daily_pct_change.rolling(min_periods).std() * np.sqrt(min_periods)\n",
    "\n",
    "vol.plot(figsize=(8,8))\n"
   ]
  },
  {
   "cell_type": "code",
   "execution_count": 26,
   "metadata": {},
   "outputs": [
    {
     "name": "stderr",
     "output_type": "stream",
     "text": [
      "/Users/justinjiang/anaconda3/lib/python3.7/site-packages/statsmodels/compat/pandas.py:23: FutureWarning: The Panel class is removed from pandas. Accessing it from the top-level namespace will also be removed in the next version\n",
      "  data_klasses = (pandas.Series, pandas.DataFrame, pandas.Panel)\n"
     ]
    },
    {
     "name": "stdout",
     "output_type": "stream",
     "text": [
      "                            OLS Regression Results                            \n",
      "==============================================================================\n",
      "Dep. Variable:                   MSFT   R-squared:                       0.506\n",
      "Model:                            OLS   Adj. R-squared:                  0.506\n",
      "Method:                 Least Squares   F-statistic:                     1196.\n",
      "Date:                Thu, 28 May 2020   Prob (F-statistic):          4.87e-181\n",
      "Time:                        23:37:01   Log-Likelihood:                 3499.5\n",
      "No. Observations:                1169   AIC:                            -6995.\n",
      "Df Residuals:                    1167   BIC:                            -6985.\n",
      "Df Model:                           1                                         \n",
      "Covariance Type:            nonrobust                                         \n",
      "==============================================================================\n",
      "                 coef    std err          t      P>|t|      [0.025      0.975]\n",
      "------------------------------------------------------------------------------\n",
      "const          0.0006      0.000      1.743      0.082   -7.79e-05       0.001\n",
      "AAPL           0.6788      0.020     34.590      0.000       0.640       0.717\n",
      "==============================================================================\n",
      "Omnibus:                      147.400   Durbin-Watson:                   2.156\n",
      "Prob(Omnibus):                  0.000   Jarque-Bera (JB):             1505.347\n",
      "Skew:                          -0.025   Prob(JB):                         0.00\n",
      "Kurtosis:                       8.559   Cond. No.                         55.3\n",
      "==============================================================================\n",
      "\n",
      "Warnings:\n",
      "[1] Standard Errors assume that the covariance matrix of the errors is correctly specified.\n"
     ]
    }
   ],
   "source": [
    "import statsmodels.api as sm\n",
    "#from pandas.core import datetools\n",
    "\n",
    "all_adj_close = all_data[[\"Adj Close\"]]\n",
    "\n",
    "all_returns = np.log(all_adj_close/all_adj_close.shift(1))\n",
    "\n",
    "aapl_returns = all_returns.iloc[all_returns.index.get_level_values('Ticker') == 'AAPL']\n",
    "aapl_returns.index = aapl_returns.index.droplevel('Ticker')\n",
    "\n",
    "msft_returns = all_returns.iloc[all_returns.index.get_level_values('Ticker') == 'MSFT']\n",
    "msft_returns.index = msft_returns.index.droplevel('Ticker')\n",
    "\n",
    "return_data = pd.concat([aapl_returns, msft_returns], axis=1)[1:]\n",
    "return_data.columns = ['AAPL', 'MSFT']\n",
    "\n",
    "X = sm.add_constant(return_data['AAPL'])\n",
    "\n",
    "model = sm.OLS(return_data['MSFT'],X).fit()\n",
    "\n",
    "# Print the summary\n",
    "print(model.summary())"
   ]
  },
  {
   "cell_type": "code",
   "execution_count": 27,
   "metadata": {},
   "outputs": [],
   "source": [
    "plt.plot(return_data['AAPL'], return_data['MSFT'], 'r.')\n",
    "\n",
    "ax = plt.axis()\n",
    "\n",
    "x = np.linspace(ax[0], ax[1] + 0.01)\n",
    "\n",
    "plt.plot(x, model.params[0] + model.params[1] * x, 'b', lw=2)\n",
    "\n",
    "plt.grid(True)\n",
    "plt.axis('tight')\n",
    "plt.xlabel('Apple Returns')\n",
    "plt.ylabel('Microsoft returns')\n",
    "\n",
    "plt.show()"
   ]
  },
  {
   "cell_type": "code",
   "execution_count": 28,
   "metadata": {},
   "outputs": [],
   "source": [
    "#return_data['MSFT'].rolling(window=252).corr(return_data['AAPL']).plot()\n",
    "\n",
    "#plt.show()"
   ]
  },
  {
   "cell_type": "code",
   "execution_count": 29,
   "metadata": {},
   "outputs": [
    {
     "data": {
      "application/vnd.jupyter.widget-view+json": {
       "model_id": "45a5770a536446dd9c31c7d7c170a6b6",
       "version_major": 2,
       "version_minor": 0
      },
      "text/plain": [
       "Canvas(toolbar=Toolbar(toolitems=[('Home', 'Reset original view', 'home', 'home'), ('Back', 'Back to previous …"
      ]
     },
     "metadata": {},
     "output_type": "display_data"
    },
    {
     "data": {
      "text/plain": [
       "<matplotlib.axes._subplots.AxesSubplot at 0x1a19dc6630>"
      ]
     },
     "execution_count": 29,
     "metadata": {},
     "output_type": "execute_result"
    }
   ],
   "source": [
    "stock = pdr.get_data_yahoo('SPY', \n",
    "                          start=datetime.datetime(2010, 5, 26), \n",
    "                          end=datetime.datetime(2020, 5, 26))\n",
    "\n",
    "\n",
    "daily_close = stock[['Adj Close']]\n",
    "daily_pct_change = daily_close.pct_change()\n",
    "daily_pct_change.fillna(0, inplace=True)\n",
    "daily_pct_change = daily_close / daily_close.shift(1) -1\n",
    "cum_daily_return = (1+daily_pct_change).cumprod()\n",
    "cum_daily_return.plot(figsize=(8,8), color = 'green')"
   ]
  },
  {
   "cell_type": "code",
   "execution_count": 30,
   "metadata": {},
   "outputs": [
    {
     "name": "stdout",
     "output_type": "stream",
     "text": [
      "            signal  short_mavg  long_mavg  positions\n",
      "Date                                                \n",
      "2006-10-02     0.0   10.694285  10.694285        NaN\n",
      "2006-10-03     0.0   10.638571  10.638571        0.0\n",
      "2006-10-04     0.0   10.681905  10.681905        0.0\n",
      "2006-10-05     0.0   10.683928  10.683928        0.0\n",
      "2006-10-06     0.0   10.667714  10.667714        0.0\n",
      "...            ...         ...        ...        ...\n",
      "2011-12-23     1.0   55.439643  55.406957        0.0\n",
      "2011-12-27     0.0   55.445286  55.448614       -1.0\n",
      "2011-12-28     0.0   55.437643  55.490072        0.0\n",
      "2011-12-29     0.0   55.468393  55.564229        0.0\n",
      "2011-12-30     0.0   55.495500  55.608500        0.0\n",
      "\n",
      "[1323 rows x 4 columns]\n"
     ]
    }
   ],
   "source": [
    "short_window = 40\n",
    "long_window = 100\n",
    "\n",
    "signals = pd.DataFrame(index=aapl.index)\n",
    "signals['signal'] = 0.0\n",
    "\n",
    "signals['short_mavg'] = aapl['Close'].rolling(window=short_window, min_periods=1, center=False).mean()\n",
    "\n",
    "signals['long_mavg'] = aapl['Close'].rolling(window=long_window, min_periods=1, center=False).mean()\n",
    "\n",
    "signals['signal'][short_window:] = np.where(signals['short_mavg'][short_window:] \n",
    "                                            > signals['long_mavg'][short_window:], 1.0, 0.0)   \n",
    "\n",
    "signals['positions'] = signals['signal'].diff()\n",
    "\n",
    "print(signals)"
   ]
  },
  {
   "cell_type": "code",
   "execution_count": 31,
   "metadata": {},
   "outputs": [
    {
     "data": {
      "application/vnd.jupyter.widget-view+json": {
       "model_id": "49ded0f6d8fd495399fafe23d55d433a",
       "version_major": 2,
       "version_minor": 0
      },
      "text/plain": [
       "Canvas(toolbar=Toolbar(toolitems=[('Home', 'Reset original view', 'home', 'home'), ('Back', 'Back to previous …"
      ]
     },
     "metadata": {},
     "output_type": "display_data"
    }
   ],
   "source": [
    "fig = plt.figure()\n",
    "\n",
    "ax1 = fig.add_subplot(111,  ylabel='Price in $')\n",
    "\n",
    "# Plot the closing price\n",
    "aapl['Close'].plot(ax=ax1, color='r', lw=2.)\n",
    "\n",
    "signals[['short_mavg', 'long_mavg']].plot(ax=ax1, lw=2.)\n",
    "\n",
    "ax1.plot(signals.loc[signals.positions == 1.0].index, \n",
    "         signals.short_mavg[signals.positions == 1.0],\n",
    "         '^', markersize=10, color='m')\n",
    "         \n",
    "ax1.plot(signals.loc[signals.positions == -1.0].index, \n",
    "         signals.short_mavg[signals.positions == -1.0],\n",
    "         'v', markersize=10, color='k')\n",
    "         \n",
    "plt.show()"
   ]
  },
  {
   "cell_type": "code",
   "execution_count": 32,
   "metadata": {},
   "outputs": [
    {
     "name": "stdout",
     "output_type": "stream",
     "text": [
      "            AAPL  holdings      cash     total  returns\n",
      "Date                                                   \n",
      "2006-10-02   0.0       0.0  100000.0  100000.0      NaN\n",
      "2006-10-03   0.0       0.0  100000.0  100000.0      0.0\n",
      "2006-10-04   0.0       0.0  100000.0  100000.0      0.0\n",
      "2006-10-05   0.0       0.0  100000.0  100000.0      0.0\n",
      "2006-10-06   0.0       0.0  100000.0  100000.0      0.0\n"
     ]
    }
   ],
   "source": [
    "initial_capital= float(100000.0)\n",
    "\n",
    "positions = pd.DataFrame(index=signals.index).fillna(0.0)\n",
    "\n",
    "positions['AAPL'] = 100*signals['signal']   \n",
    "  \n",
    "portfolio = positions.multiply(aapl['Adj Close'], axis=0)\n",
    "\n",
    "pos_diff = positions.diff()\n",
    "\n",
    "portfolio['holdings'] = (positions.multiply(aapl['Adj Close'], axis=0)).sum(axis=1)\n",
    "\n",
    "portfolio['cash'] = initial_capital - (pos_diff.multiply(aapl['Adj Close'], axis=0)).sum(axis=1).cumsum()   \n",
    "\n",
    "portfolio['total'] = portfolio['cash'] + portfolio['holdings']\n",
    "\n",
    "portfolio['returns'] = portfolio['total'].pct_change()\n",
    "\n",
    "print(portfolio.head())"
   ]
  },
  {
   "cell_type": "code",
   "execution_count": 33,
   "metadata": {},
   "outputs": [
    {
     "data": {
      "application/vnd.jupyter.widget-view+json": {
       "model_id": "ad7f4539f08d4561bc36b38d63e605f4",
       "version_major": 2,
       "version_minor": 0
      },
      "text/plain": [
       "Canvas(toolbar=Toolbar(toolitems=[('Home', 'Reset original view', 'home', 'home'), ('Back', 'Back to previous …"
      ]
     },
     "metadata": {},
     "output_type": "display_data"
    }
   ],
   "source": [
    "fig = plt.figure()\n",
    "\n",
    "ax1 = fig.add_subplot(111, ylabel='Portfolio value in $')\n",
    "\n",
    "portfolio['total'].plot(ax=ax1, lw=2.)\n",
    "\n",
    "ax1.plot(portfolio.loc[signals.positions == 1.0].index, \n",
    "         portfolio.total[signals.positions == 1.0],\n",
    "         '^', markersize=10, color='m')\n",
    "ax1.plot(portfolio.loc[signals.positions == -1.0].index, \n",
    "         portfolio.total[signals.positions == -1.0],\n",
    "         'v', markersize=10, color='k')\n",
    "\n",
    "plt.show()"
   ]
  },
  {
   "cell_type": "code",
   "execution_count": 34,
   "metadata": {},
   "outputs": [
    {
     "name": "stdout",
     "output_type": "stream",
     "text": [
      "0.7258830008705762\n"
     ]
    }
   ],
   "source": [
    "returns = portfolio['returns']\n",
    "\n",
    "sharpe_ratio = np.sqrt(252) * (returns.mean() / returns.std())\n",
    "\n",
    "print(sharpe_ratio)"
   ]
  },
  {
   "cell_type": "code",
   "execution_count": 35,
   "metadata": {},
   "outputs": [],
   "source": [
    "window = 252\n",
    "\n",
    "rolling_max = aapl['Adj Close'].rolling(window, min_periods=1).max()\n",
    "daily_drawdown = aapl['Adj Close']/rolling_max - 1.0\n",
    "\n",
    "max_daily_drawdown = daily_drawdown.rolling(window, min_periods=1).min()\n",
    "\n",
    "daily_drawdown.plot()\n",
    "max_daily_drawdown.plot()\n",
    "\n",
    "plt.show()"
   ]
  },
  {
   "cell_type": "code",
   "execution_count": 36,
   "metadata": {},
   "outputs": [
    {
     "name": "stdout",
     "output_type": "stream",
     "text": [
      "0.38234463058381896\n"
     ]
    }
   ],
   "source": [
    "days = (aapl.index[-1] - aapl.index[0]).days\n",
    "\n",
    "cagr = ((((aapl['Adj Close'][-1]) / aapl['Adj Close'][1])) ** (365.0/days)) - 1\n",
    "\n",
    "print(cagr)"
   ]
  },
  {
   "cell_type": "code",
   "execution_count": null,
   "metadata": {},
   "outputs": [],
   "source": []
  }
 ],
 "metadata": {
  "kernelspec": {
   "display_name": "Python 3",
   "language": "python",
   "name": "python3"
  },
  "language_info": {
   "codemirror_mode": {
    "name": "ipython",
    "version": 3
   },
   "file_extension": ".py",
   "mimetype": "text/x-python",
   "name": "python",
   "nbconvert_exporter": "python",
   "pygments_lexer": "ipython3",
   "version": "3.7.3"
  }
 },
 "nbformat": 4,
 "nbformat_minor": 2
}
